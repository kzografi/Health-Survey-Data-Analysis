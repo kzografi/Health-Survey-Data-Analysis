{
 "cells": [
  {
   "cell_type": "markdown",
   "metadata": {},
   "source": [
    "# Health Survey Data Analysis\n",
    "\n",
    "Krist Zografi"
   ]
  },
  {
   "cell_type": "markdown",
   "metadata": {},
   "source": [
    "## Executive Summary\n",
    "\n",
    "In this project we going to cover: \n",
    "- Some data cleaning\n",
    "- Calculate 95% confidence interval for average days people's physical health was not good. Using sample of 250, 500, 1000\n",
    "- Create two subset and compare the average days people's physical health hasn't been good\n",
    "- State hypotheses and perform test to deteminate test statistic and p-value\n",
    "- Next steps\n"
   ]
  },
  {
   "cell_type": "markdown",
   "metadata": {},
   "source": [
    "## The Data\n",
    "\n",
    "These data are information gathered by CDC for behavioral risk factors in different states. The main two columns that we are going to use are:\n",
    "- **PHYSHLTH**, which indicates the number of days a person physical health hasn't been good\n",
    "- **RENTHOM1**, which indicates if the person lives in his own home or rent it"
   ]
  },
  {
   "cell_type": "code",
   "execution_count": 1,
   "metadata": {},
   "outputs": [],
   "source": [
    "import matplotlib.pyplot as plt\n",
    "import numpy as np\n",
    "import pandas as pd\n",
    "import scipy.stats as stats\n",
    "import warnings\n",
    "warnings.filterwarnings('ignore')\n",
    "import seaborn as sns\n",
    "\n",
    "file_path = \"https://raw.githubusercontent.com/learn-co-curriculum/da-phase3-project-enterprise/main/brfss_ny.csv\"\n",
    "df = pd.read_csv(file_path)"
   ]
  },
  {
   "cell_type": "markdown",
   "metadata": {},
   "source": [
    "## Data Preparation\n",
    "\n",
    "So the data we are going to work on this project are Number of Days Physical Health Not Good(PHYSHLTH column) and Own or Rent Home(RENTHOM1 column). So we are going to create a dataframe that has only these two columns."
   ]
  },
  {
   "cell_type": "code",
   "execution_count": 2,
   "metadata": {},
   "outputs": [
    {
     "data": {
      "text/html": [
       "<div>\n",
       "<style scoped>\n",
       "    .dataframe tbody tr th:only-of-type {\n",
       "        vertical-align: middle;\n",
       "    }\n",
       "\n",
       "    .dataframe tbody tr th {\n",
       "        vertical-align: top;\n",
       "    }\n",
       "\n",
       "    .dataframe thead th {\n",
       "        text-align: right;\n",
       "    }\n",
       "</style>\n",
       "<table border=\"1\" class=\"dataframe\">\n",
       "  <thead>\n",
       "    <tr style=\"text-align: right;\">\n",
       "      <th></th>\n",
       "      <th>PHYSHLTH</th>\n",
       "      <th>RENTHOM1</th>\n",
       "    </tr>\n",
       "  </thead>\n",
       "  <tbody>\n",
       "    <tr>\n",
       "      <th>0</th>\n",
       "      <td>88.0</td>\n",
       "      <td>2.0</td>\n",
       "    </tr>\n",
       "    <tr>\n",
       "      <th>1</th>\n",
       "      <td>14.0</td>\n",
       "      <td>1.0</td>\n",
       "    </tr>\n",
       "    <tr>\n",
       "      <th>2</th>\n",
       "      <td>88.0</td>\n",
       "      <td>2.0</td>\n",
       "    </tr>\n",
       "    <tr>\n",
       "      <th>3</th>\n",
       "      <td>5.0</td>\n",
       "      <td>3.0</td>\n",
       "    </tr>\n",
       "    <tr>\n",
       "      <th>4</th>\n",
       "      <td>88.0</td>\n",
       "      <td>2.0</td>\n",
       "    </tr>\n",
       "    <tr>\n",
       "      <th>...</th>\n",
       "      <td>...</td>\n",
       "      <td>...</td>\n",
       "    </tr>\n",
       "    <tr>\n",
       "      <th>14764</th>\n",
       "      <td>88.0</td>\n",
       "      <td>2.0</td>\n",
       "    </tr>\n",
       "    <tr>\n",
       "      <th>14765</th>\n",
       "      <td>88.0</td>\n",
       "      <td>2.0</td>\n",
       "    </tr>\n",
       "    <tr>\n",
       "      <th>14766</th>\n",
       "      <td>2.0</td>\n",
       "      <td>2.0</td>\n",
       "    </tr>\n",
       "    <tr>\n",
       "      <th>14767</th>\n",
       "      <td>88.0</td>\n",
       "      <td>2.0</td>\n",
       "    </tr>\n",
       "    <tr>\n",
       "      <th>14768</th>\n",
       "      <td>88.0</td>\n",
       "      <td>3.0</td>\n",
       "    </tr>\n",
       "  </tbody>\n",
       "</table>\n",
       "<p>14769 rows × 2 columns</p>\n",
       "</div>"
      ],
      "text/plain": [
       "       PHYSHLTH  RENTHOM1\n",
       "0          88.0       2.0\n",
       "1          14.0       1.0\n",
       "2          88.0       2.0\n",
       "3           5.0       3.0\n",
       "4          88.0       2.0\n",
       "...         ...       ...\n",
       "14764      88.0       2.0\n",
       "14765      88.0       2.0\n",
       "14766       2.0       2.0\n",
       "14767      88.0       2.0\n",
       "14768      88.0       3.0\n",
       "\n",
       "[14769 rows x 2 columns]"
      ]
     },
     "execution_count": 2,
     "metadata": {},
     "output_type": "execute_result"
    }
   ],
   "source": [
    "new_df = df[['PHYSHLTH' , 'RENTHOM1']]\n",
    "new_df"
   ]
  },
  {
   "cell_type": "code",
   "execution_count": 3,
   "metadata": {},
   "outputs": [
    {
     "name": "stdout",
     "output_type": "stream",
     "text": [
      "<class 'pandas.core.frame.DataFrame'>\n",
      "RangeIndex: 14769 entries, 0 to 14768\n",
      "Data columns (total 2 columns):\n",
      " #   Column    Non-Null Count  Dtype  \n",
      "---  ------    --------------  -----  \n",
      " 0   PHYSHLTH  14769 non-null  float64\n",
      " 1   RENTHOM1  14769 non-null  float64\n",
      "dtypes: float64(2)\n",
      "memory usage: 230.9 KB\n"
     ]
    }
   ],
   "source": [
    "new_df.info()"
   ]
  },
  {
   "cell_type": "markdown",
   "metadata": {},
   "source": [
    "There are some unwanted values into the dataframes so we are going to clean the rows we dont need, starting with the PHYSHLTH. We dont need values above 30, below 0, also we need to replace all 88 value with 0. "
   ]
  },
  {
   "cell_type": "code",
   "execution_count": 4,
   "metadata": {
    "scrolled": false
   },
   "outputs": [
    {
     "data": {
      "text/plain": [
       "0.0     10565\n",
       "1.0       410\n",
       "2.0       597\n",
       "3.0       361\n",
       "4.0       163\n",
       "5.0       367\n",
       "6.0        47\n",
       "7.0       209\n",
       "8.0        45\n",
       "9.0        11\n",
       "10.0      231\n",
       "11.0        4\n",
       "12.0       22\n",
       "13.0        7\n",
       "14.0      144\n",
       "15.0      194\n",
       "16.0        6\n",
       "17.0        6\n",
       "18.0        6\n",
       "19.0        2\n",
       "20.0      147\n",
       "21.0       26\n",
       "22.0        1\n",
       "23.0        3\n",
       "24.0        5\n",
       "25.0       55\n",
       "26.0        3\n",
       "27.0        5\n",
       "28.0       22\n",
       "29.0        8\n",
       "30.0      768\n",
       "77.0      248\n",
       "99.0       81\n",
       "Name: PHYSHLTH, dtype: int64"
      ]
     },
     "execution_count": 4,
     "metadata": {},
     "output_type": "execute_result"
    }
   ],
   "source": [
    "#First lets replace 88 with 0 \n",
    "new_df['PHYSHLTH'] = new_df['PHYSHLTH'].replace([88], 0)\n",
    "\n",
    "#Lets check all the values this column has\n",
    "new_df['PHYSHLTH'].value_counts().sort_index()"
   ]
  },
  {
   "cell_type": "markdown",
   "metadata": {},
   "source": [
    "Time to remove values that are above 30."
   ]
  },
  {
   "cell_type": "code",
   "execution_count": 5,
   "metadata": {
    "scrolled": false
   },
   "outputs": [
    {
     "data": {
      "text/plain": [
       "0.0     10565\n",
       "1.0       410\n",
       "2.0       597\n",
       "3.0       361\n",
       "4.0       163\n",
       "5.0       367\n",
       "6.0        47\n",
       "7.0       209\n",
       "8.0        45\n",
       "9.0        11\n",
       "10.0      231\n",
       "11.0        4\n",
       "12.0       22\n",
       "13.0        7\n",
       "14.0      144\n",
       "15.0      194\n",
       "16.0        6\n",
       "17.0        6\n",
       "18.0        6\n",
       "19.0        2\n",
       "20.0      147\n",
       "21.0       26\n",
       "22.0        1\n",
       "23.0        3\n",
       "24.0        5\n",
       "25.0       55\n",
       "26.0        3\n",
       "27.0        5\n",
       "28.0       22\n",
       "29.0        8\n",
       "30.0      768\n",
       "Name: PHYSHLTH, dtype: int64"
      ]
     },
     "execution_count": 5,
     "metadata": {},
     "output_type": "execute_result"
    }
   ],
   "source": [
    "new_df = new_df[new_df['PHYSHLTH'] <= 30]\n",
    "new_df['PHYSHLTH'].value_counts().sort_index()"
   ]
  },
  {
   "cell_type": "markdown",
   "metadata": {},
   "source": [
    "Now that we don't have any values below 0 or above 30 let's check if we have black values, checking this because the codebook mentioned some blank values... If there aren't any we will start cleaning the next column. "
   ]
  },
  {
   "cell_type": "code",
   "execution_count": 6,
   "metadata": {
    "scrolled": false
   },
   "outputs": [
    {
     "data": {
      "text/plain": [
       "0"
      ]
     },
     "execution_count": 6,
     "metadata": {},
     "output_type": "execute_result"
    }
   ],
   "source": [
    "new_df['PHYSHLTH'].isna().sum()"
   ]
  },
  {
   "cell_type": "markdown",
   "metadata": {},
   "source": [
    "Time to start with **RENTHOM1** cleaning."
   ]
  },
  {
   "cell_type": "code",
   "execution_count": 7,
   "metadata": {},
   "outputs": [
    {
     "data": {
      "text/plain": [
       "1.0    8453\n",
       "2.0    5206\n",
       "3.0     585\n",
       "9.0     141\n",
       "7.0      55\n",
       "Name: RENTHOM1, dtype: int64"
      ]
     },
     "execution_count": 7,
     "metadata": {},
     "output_type": "execute_result"
    }
   ],
   "source": [
    "#First lets check what values it has\n",
    "new_df['RENTHOM1'].value_counts()"
   ]
  },
  {
   "cell_type": "markdown",
   "metadata": {},
   "source": [
    "Now let remove values other then 1(own) and 2(rent) on RENTHOM1 column"
   ]
  },
  {
   "cell_type": "code",
   "execution_count": 8,
   "metadata": {
    "scrolled": false
   },
   "outputs": [
    {
     "data": {
      "text/plain": [
       "1.0    8453\n",
       "2.0    5206\n",
       "Name: RENTHOM1, dtype: int64"
      ]
     },
     "execution_count": 8,
     "metadata": {},
     "output_type": "execute_result"
    }
   ],
   "source": [
    "#Remove values higher than 2\n",
    "new_df = new_df[new_df['RENTHOM1'] <= 2]\n",
    "new_df['RENTHOM1'].value_counts()"
   ]
  },
  {
   "cell_type": "markdown",
   "metadata": {},
   "source": [
    "Also let's check even for blank or null values."
   ]
  },
  {
   "cell_type": "code",
   "execution_count": 9,
   "metadata": {
    "scrolled": true
   },
   "outputs": [
    {
     "data": {
      "text/plain": [
       "0"
      ]
     },
     "execution_count": 9,
     "metadata": {},
     "output_type": "execute_result"
    }
   ],
   "source": [
    "new_df['RENTHOM1'].isna().sum()"
   ]
  },
  {
   "cell_type": "markdown",
   "metadata": {},
   "source": [
    "This concludes the removing of unnecessary values from RENTHOM1 and PHYSHLTH columns "
   ]
  },
  {
   "cell_type": "markdown",
   "metadata": {},
   "source": [
    "## Confidence Interval for Mean of `PHYSHLTH`"
   ]
  },
  {
   "cell_type": "markdown",
   "metadata": {},
   "source": [
    "In this part of the project we are going to calculate the 95% confidence interval about the mean of PHYSHLT. in short, we are going to determinate the mean number of days the people's physical health has not been good.\n",
    "We are going to calculate the confidence with different number of samples. \n",
    "- 250\n",
    "- 500\n",
    "- 1000\n",
    "\n",
    "Compare the range values for each sample size\n",
    "\n",
    "**Note**: We need to set `random_state` when taking sample, otherwise the samples will be different each time."
   ]
  },
  {
   "cell_type": "code",
   "execution_count": 10,
   "metadata": {},
   "outputs": [],
   "source": [
    "#lets create a sample of 250\n",
    "phys_cap = new_df['PHYSHLTH']\n",
    "sample_250 = phys_cap.sample(n = 250, random_state= 42)"
   ]
  },
  {
   "cell_type": "code",
   "execution_count": 11,
   "metadata": {},
   "outputs": [
    {
     "name": "stdout",
     "output_type": "stream",
     "text": [
      "Sample mean : 3.064 \n",
      "Sample error:  0.4934100016404977 \n",
      "Sample size :  250\n"
     ]
    }
   ],
   "source": [
    "#Lets start by finding the mean of the sample for 250 values\n",
    "sample_mean = sample_250.mean()\n",
    "#The standard derivation \n",
    "sample_std = sample_250.std()\n",
    "#size of the sample (even though we know is 250)\n",
    "sample_size = len(sample_250)\n",
    "#Sample error\n",
    "se = sample_std / np.sqrt(sample_size)\n",
    "print(\"Sample mean :\", sample_mean, \"\\nSample error: \", se,\"\\nSample size : \", sample_size)"
   ]
  },
  {
   "cell_type": "code",
   "execution_count": 12,
   "metadata": {
    "scrolled": true
   },
   "outputs": [
    {
     "data": {
      "text/plain": [
       "(2.0922108109069333, 4.035789189093067)"
      ]
     },
     "execution_count": 12,
     "metadata": {},
     "output_type": "execute_result"
    }
   ],
   "source": [
    "stats.t.interval(alpha = .95, loc = sample_mean, scale = se, df = sample_size -1)"
   ]
  },
  {
   "cell_type": "markdown",
   "metadata": {},
   "source": [
    "To save us some time with the different samples, we are going to create a function we can add only the sample size and it will calculate the confidence interval for each sample."
   ]
  },
  {
   "cell_type": "code",
   "execution_count": 13,
   "metadata": {},
   "outputs": [],
   "source": [
    "def calculate_ci(sample):\n",
    "    \n",
    "    # Sample Mean\n",
    "    sample_mean = sample.mean()\n",
    "\n",
    "    # Sample Standard Deviation\n",
    "    sample_std = sample.std()\n",
    "\n",
    "    # Sample Standard Error\n",
    "    se = stats.sem(sample)\n",
    "\n",
    "    # Sample Size\n",
    "    sample_size = len(sample)\n",
    "    \n",
    "    # Calculate and return confidence interval\n",
    "    return stats.t.interval(alpha = .95, loc=sample_mean, scale=se, df=sample_size-1)"
   ]
  },
  {
   "cell_type": "code",
   "execution_count": 14,
   "metadata": {},
   "outputs": [
    {
     "data": {
      "text/plain": [
       "(2.0922108109069337, 4.035789189093066)"
      ]
     },
     "execution_count": 14,
     "metadata": {},
     "output_type": "execute_result"
    }
   ],
   "source": [
    "# Sample of 250\n",
    "calculate_ci(sample_250)"
   ]
  },
  {
   "cell_type": "markdown",
   "metadata": {},
   "source": [
    "With a sample size of 250, we are 95% confident that the true mean of days people's physical health has not been good is within 2.1 and 4 (days)."
   ]
  },
  {
   "cell_type": "code",
   "execution_count": 15,
   "metadata": {
    "scrolled": false
   },
   "outputs": [
    {
     "data": {
      "text/plain": [
       "(2.14104678624985, 3.4189532137501497)"
      ]
     },
     "execution_count": 15,
     "metadata": {},
     "output_type": "execute_result"
    }
   ],
   "source": [
    "# Sample of 500\n",
    "sample_500 = phys_cap.sample(n=500, random_state=42)\n",
    "calculate_ci(sample_500)"
   ]
  },
  {
   "cell_type": "markdown",
   "metadata": {},
   "source": [
    "With a sample size of 500, we are 95% confident that the true mean of days people's physical health has not been good is within 2.14 and 3.42 (days)."
   ]
  },
  {
   "cell_type": "code",
   "execution_count": 16,
   "metadata": {},
   "outputs": [
    {
     "data": {
      "text/plain": [
       "(2.2518492978465194, 3.1281507021534805)"
      ]
     },
     "execution_count": 16,
     "metadata": {},
     "output_type": "execute_result"
    }
   ],
   "source": [
    "# Sample of 1000\n",
    "sample_1000 = phys_cap.sample(n=1000, random_state=42)\n",
    "calculate_ci(sample_1000)"
   ]
  },
  {
   "cell_type": "markdown",
   "metadata": {},
   "source": [
    "**Conclusion:**   \n",
    "The larger the sample, the higher the certanty of our answer. Also we can say that between each sample there isn't much difference.  \n",
    "So, with a sample size of 1000, we are 95% confident that the true mean of days people's physical health has not been good is within 2.25 and 3.13 (days)."
   ]
  },
  {
   "cell_type": "markdown",
   "metadata": {},
   "source": [
    "## Differences in `PHYSHLTH` Based on `RENTHOM1`\n",
    "\n",
    "### How Does `PHYSHLTH` Differ Based on `RENTHOM1`?\n",
    "\n",
    "In this part of the project we are going to determine how health differs for different people based on the type of habitat they live in, so we are going to compare the health of people that live in their own homes and the ones who rent it.  \n",
    "We are going to start by separating the data into main groups:\n",
    "- Own home\n",
    "- Rent it"
   ]
  },
  {
   "cell_type": "markdown",
   "metadata": {},
   "source": [
    "**Own home**"
   ]
  },
  {
   "cell_type": "code",
   "execution_count": 17,
   "metadata": {
    "scrolled": false
   },
   "outputs": [
    {
     "data": {
      "text/plain": [
       "1        14.0\n",
       "13        0.0\n",
       "15        0.0\n",
       "20        0.0\n",
       "23        0.0\n",
       "         ... \n",
       "14750     0.0\n",
       "14751     0.0\n",
       "14753     0.0\n",
       "14760     0.0\n",
       "14762     0.0\n",
       "Name: PHYSHLTH, Length: 8453, dtype: float64"
      ]
     },
     "execution_count": 17,
     "metadata": {},
     "output_type": "execute_result"
    }
   ],
   "source": [
    "own_home_gr = new_df.loc[(new_df['RENTHOM1'] == 1), 'PHYSHLTH']\n",
    "own_home_gr"
   ]
  },
  {
   "cell_type": "code",
   "execution_count": 18,
   "metadata": {
    "scrolled": true
   },
   "outputs": [
    {
     "data": {
      "text/plain": [
       "8453"
      ]
     },
     "execution_count": 18,
     "metadata": {},
     "output_type": "execute_result"
    }
   ],
   "source": [
    "len(own_home_gr)"
   ]
  },
  {
   "cell_type": "markdown",
   "metadata": {},
   "source": [
    "**Rent it** "
   ]
  },
  {
   "cell_type": "code",
   "execution_count": 19,
   "metadata": {
    "scrolled": true
   },
   "outputs": [
    {
     "data": {
      "text/plain": [
       "0        0.0\n",
       "2        0.0\n",
       "4        0.0\n",
       "5        2.0\n",
       "6        0.0\n",
       "        ... \n",
       "14763    0.0\n",
       "14764    0.0\n",
       "14765    0.0\n",
       "14766    2.0\n",
       "14767    0.0\n",
       "Name: PHYSHLTH, Length: 5206, dtype: float64"
      ]
     },
     "execution_count": 19,
     "metadata": {},
     "output_type": "execute_result"
    }
   ],
   "source": [
    "rent_home_gr = new_df.loc[(new_df['RENTHOM1'] == 2), 'PHYSHLTH']\n",
    "rent_home_gr"
   ]
  },
  {
   "cell_type": "code",
   "execution_count": 20,
   "metadata": {
    "scrolled": true
   },
   "outputs": [
    {
     "data": {
      "text/plain": [
       "5206"
      ]
     },
     "execution_count": 20,
     "metadata": {},
     "output_type": "execute_result"
    }
   ],
   "source": [
    "len(rent_home_gr)"
   ]
  },
  {
   "cell_type": "code",
   "execution_count": 21,
   "metadata": {},
   "outputs": [
    {
     "data": {
      "image/png": "[encoded data removed]",
      "text/plain": [
       "<Figure size 720x576 with 1 Axes>"
      ]
     },
     "metadata": {
      "needs_background": "light"
     },
     "output_type": "display_data"
    }
   ],
   "source": [
    "fig, ax = plt.subplots(figsize=(10,8))\n",
    "ax.hist( x=[own_home_gr, rent_home_gr], label=[ 'Own Home', 'Rent'], alpha=.5)\n",
    "ax.set_xlabel('Fig.1')\n",
    "ax.legend()\n",
    "plt.show()"
   ]
  },
  {
   "cell_type": "code",
   "execution_count": 22,
   "metadata": {
    "scrolled": false
   },
   "outputs": [
    {
     "data": {
      "image/png": "[encoded data removed]",
      "text/plain": [
       "<Figure size 720x576 with 1 Axes>"
      ]
     },
     "metadata": {
      "needs_background": "light"
     },
     "output_type": "display_data"
    }
   ],
   "source": [
    "fig, ax = plt.subplots(figsize=(10,8))\n",
    "\n",
    "ax.hist(own_home_gr, label='Owns Home', alpha=.5)\n",
    "ax.hist(rent_home_gr, label='Rent', alpha=.5)\n",
    "ax.set_xlabel('Fig.2')\n",
    "ax.legend()\n",
    "plt.show()"
   ]
  },
  {
   "cell_type": "code",
   "execution_count": 23,
   "metadata": {},
   "outputs": [
    {
     "data": {
      "image/png": "[encoded data removed]",
      "text/plain": [
       "<Figure size 720x432 with 1 Axes>"
      ]
     },
     "metadata": {
      "needs_background": "light"
     },
     "output_type": "display_data"
    }
   ],
   "source": [
    "fig, ax = plt.subplots(figsize=(10,6))\n",
    "sns.boxplot(data=new_df, x='RENTHOM1', y='PHYSHLTH', ax=ax)\n",
    "\n",
    "ax.set_title('Distribution of PHYSHLTH Across RENTHOME1')\n",
    "ax.set_xlabel('Category')\n",
    "ax.set_ylabel('Days');"
   ]
  },
  {
   "cell_type": "code",
   "execution_count": 24,
   "metadata": {},
   "outputs": [
    {
     "data": {
      "text/plain": [
       "2.675854726132734"
      ]
     },
     "execution_count": 24,
     "metadata": {},
     "output_type": "execute_result"
    }
   ],
   "source": [
    "own_home_gr.mean()"
   ]
  },
  {
   "cell_type": "code",
   "execution_count": 25,
   "metadata": {},
   "outputs": [
    {
     "data": {
      "text/plain": [
       "3.6959277756434883"
      ]
     },
     "execution_count": 25,
     "metadata": {},
     "output_type": "execute_result"
    }
   ],
   "source": [
    "rent_home_gr.mean()"
   ]
  },
  {
   "cell_type": "markdown",
   "metadata": {},
   "source": [
    "**Conclusions:**  \n",
    "From the different subplots, especially the boxplot, we can say that:\n",
    "- The number of days people's physical health has’t been good in rent(home or apt) is higher than the ones who owns a home.\n",
    "- People who rent have larger spread/variance than those who own a home."
   ]
  },
  {
   "cell_type": "markdown",
   "metadata": {},
   "source": [
    "## Is the Difference Statistically Significant?\n",
    "\n",
    "Its time to determinate if the difference is significant between the two main groups or not. To do this we are going to start by stating ower Hypotheses:"
   ]
  },
  {
   "cell_type": "markdown",
   "metadata": {},
   "source": [
    "**First: The Null Hypothesis ($H_0$)**\n",
    "$H_0$ : There is no significant difference between the average number of days for the people who owns a home and the average number of days for the ones who rent it. \n",
    "\n",
    "**Secondly: The Alternative Hypothesis ($H_a$)**\n",
    "$H_a$ : There is a significant difference between the average number of days for the people who owns a home and the average number of days for the ones who rent it. \n"
   ]
  },
  {
   "cell_type": "markdown",
   "metadata": {},
   "source": [
    "**Type Test:** Two tailed t-test or two-sample independent t-test. I choose this test because we are comparing two different populations: the ones that own their homes and the ones who rent it, so they live in different habitats. "
   ]
  },
  {
   "cell_type": "markdown",
   "metadata": {},
   "source": [
    "We are going to start by taking a sample of 250 for each group"
   ]
  },
  {
   "cell_type": "code",
   "execution_count": 26,
   "metadata": {},
   "outputs": [
    {
     "name": "stdout",
     "output_type": "stream",
     "text": [
      "Variance of owns home sample:  61.84314859437748\n",
      "Variance of rent sample:  64.04954216867465\n"
     ]
    }
   ],
   "source": [
    "#Own their home\n",
    "own_sample = own_home_gr.sample(n=250, random_state=42)\n",
    "#Rent it\n",
    "rent_sample = rent_home_gr.sample(n=250, random_state=42)\n",
    "\n",
    "print(\"Variance of owns home sample: \", own_sample.var())\n",
    "print(\"Variance of rent sample: \", rent_sample.var())"
   ]
  },
  {
   "cell_type": "markdown",
   "metadata": {},
   "source": [
    "Now we are going to calculate the test statistic and p-value."
   ]
  },
  {
   "cell_type": "code",
   "execution_count": 27,
   "metadata": {
    "scrolled": false
   },
   "outputs": [
    {
     "data": {
      "text/plain": [
       "Ttest_indResult(statistic=-0.8680614271207988, pvalue=0.38577894497754583)"
      ]
     },
     "execution_count": 27,
     "metadata": {},
     "output_type": "execute_result"
    }
   ],
   "source": [
    "results = stats.ttest_ind(own_sample, rent_sample, equal_var=False, alternative='two-sided')\n",
    "results"
   ]
  },
  {
   "cell_type": "code",
   "execution_count": 28,
   "metadata": {},
   "outputs": [
    {
     "name": "stdout",
     "output_type": "stream",
     "text": [
      "P value of t test:  0.38577894497754583\n"
     ]
    }
   ],
   "source": [
    "p_val = results[1]\n",
    "print('P value of t test: ', p_val)"
   ]
  },
  {
   "cell_type": "markdown",
   "metadata": {},
   "source": [
    "**Conclusion:** The p-value is 0.38, which is greater than our defined alpha value of .05, we fail to reject the null hypothesis."
   ]
  },
  {
   "cell_type": "markdown",
   "metadata": {},
   "source": [
    "## Next Steps\n",
    "\n",
    "From what I could check from our codebook from CDC, I can say that there is so much analysis we can start investigating from it. On this project we had the number of days their physical health wasn't good for different habitats. So the next analysis might be that their health wasn't good for different genders like male or female. Or we can compare their mental health for different habitats or genres. It's hard to decide with all the information that the codebook has in it. Columns can be MENTHLTH with SEXVAR or RENTHOM1. "
   ]
  }
 ],
 "metadata": {
  "kernelspec": {
   "display_name": "Python 3",
   "language": "python",
   "name": "python3"
  },
  "language_info": {
   "codemirror_mode": {
    "name": "ipython",
    "version": 3
   },
   "file_extension": ".py",
   "mimetype": "text/x-python",
   "name": "python",
   "nbconvert_exporter": "python",
   "pygments_lexer": "ipython3",
   "version": "3.9.5"
  }
 },
 "nbformat": 4,
 "nbformat_minor": 4
}
